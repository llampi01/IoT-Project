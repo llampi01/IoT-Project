{
  "nbformat": 4,
  "nbformat_minor": 0,
  "metadata": {
    "colab": {
      "provenance": []
    },
    "kernelspec": {
      "name": "python3",
      "display_name": "Python 3"
    },
    "language_info": {
      "name": "python"
    }
  },
  "cells": [
    {
      "cell_type": "code",
      "source": [
        "import numpy as np\n",
        "import pandas as pd\n",
        "import time\n",
        "from sklearn.ensemble import IsolationForest\n",
        "from sklearn.svm import OneClassSVM\n",
        "from sklearn.preprocessing import StandardScaler\n",
        "from sklearn.model_selection import train_test_split\n",
        "from sklearn.metrics import mean_squared_error, accuracy_score, confusion_matrix\n",
        "import math\n",
        "from scipy.stats import entropy"
      ],
      "metadata": {
        "id": "Vo8OSPc0u9pO"
      },
      "execution_count": null,
      "outputs": []
    },
    {
      "cell_type": "markdown",
      "source": [
        "Load the Datasets"
      ],
      "metadata": {
        "id": "-lZ0ksFHenMl"
      }
    },
    {
      "cell_type": "code",
      "source": [
        "df_unusual = pd.read_csv('delay_unusual_traffic.csv')\n",
        "df = pd.read_csv('normal.csv')\n",
        "\n",
        "# Drop rows with NaN in the 'Source' column\n",
        "df.dropna(subset=['Source'], inplace=True)\n",
        "df.dropna(subset=['Payload Length'], inplace=True)\n",
        "\n",
        "\n",
        "# Sort the DataFrame by 'Time'\n",
        "df.sort_values(by='Time', inplace=True)\n",
        "\n",
        "# Convert 'Time' column to datetime for calculations\n",
        "df['Time'] = pd.to_datetime(df['Time'], unit='s')\n",
        "\n",
        "# Calculate the inter-arrival time per source IP address\n",
        "df['Inter-Arrival Time'] = df.groupby('Source')['Time'].diff()\n",
        "\n",
        "df['Inter-Arrival Time (s)'] = df['Inter-Arrival Time'].dt.total_seconds()\n",
        "\n",
        "# Drop rows with NaN in the 'Source' column\n",
        "df.dropna(subset=['Inter-Arrival Time (s)'], inplace=True)\n",
        "\n",
        "# Calculate entropy of payload sizes\n",
        "payload_entropy = df.groupby('Source')['Payload Length'].apply(lambda x: entropy(np.bincount(x)))\n",
        "df['Payload_Entropy'] = payload_entropy.reindex(df['Source']).values\n"
      ],
      "metadata": {
        "id": "YPGWVINCd39F"
      },
      "execution_count": null,
      "outputs": []
    },
    {
      "cell_type": "code",
      "source": [
        "# Drop rows with NaN in the 'Source' column\n",
        "df_unusual.dropna(subset=['Source'], inplace=True)\n",
        "df_unusual.dropna(subset=['Payload Length'], inplace=True)\n",
        "\n",
        "# Sort the DataFrame by 'Time'\n",
        "df_unusual.sort_values(by='Time', inplace=True)\n",
        "\n",
        "# Convert 'Time' column to datetime for calculations\n",
        "df_unusual['Time'] = pd.to_datetime(df_unusual['Time'], unit='s')\n",
        "\n",
        "# Calculate the inter-arrival time per source IP address\n",
        "df_unusual['Inter-Arrival Time'] = df_unusual.groupby('Source')['Time'].diff()\n",
        "\n",
        "df_unusual['Inter-Arrival Time (s)'] = df_unusual['Inter-Arrival Time'].dt.total_seconds()\n",
        "\n",
        "# Drop rows with NaN in the 'Source' column\n",
        "df_unusual.dropna(subset=['Inter-Arrival Time (s)'], inplace=True)\n",
        "# Calculate entropy of payload sizes\n",
        "payload_entropy = df_unusual.groupby('Source')['Payload Length'].apply(lambda x: entropy(np.bincount(x)))\n",
        "df_unusual['Payload_Entropy'] = payload_entropy.reindex(df_unusual['Source']).values"
      ],
      "metadata": {
        "id": "IQbZ7C7p2Kor"
      },
      "execution_count": null,
      "outputs": []
    },
    {
      "cell_type": "code",
      "source": [
        "df_unusual['Delay'] = (df_unusual['Inter-Arrival Time (s)'] > 6).astype(int)\n",
        "df_unusual['Unusual'] = (df_unusual['Payload Length'] > 150).astype(int)\n",
        "df_unusual['Anomaly'] = (df_unusual['Delay'] | df_unusual['Unusual']).astype(int)\n"
      ],
      "metadata": {
        "id": "bpjgXf2HgFF0"
      },
      "execution_count": null,
      "outputs": []
    },
    {
      "cell_type": "code",
      "source": [
        "# Preprocess the data\n",
        "labels=df_unusual['Anomaly']\n",
        "df_unusual.drop('Anomaly', axis=1, inplace=True)\n",
        "df_unusual.drop('Delay', axis=1, inplace=True)\n",
        "df_unusual.drop('Unusual', axis=1, inplace=True)        # might help improve the models performance\n",
        "df_unusual.drop('Time', axis=1, inplace=True)\n",
        "df_unusual.drop('Source', axis=1, inplace=True)\n",
        "df_unusual.drop('Destination', axis=1, inplace=True)\n",
        "df_unusual.drop('Protocol', axis=1, inplace=True)\n",
        "df_unusual.drop('Info', axis=1, inplace=True)\n",
        "df_unusual.drop('Inter-Arrival Time', axis=1, inplace=True)\n",
        "df_unusual.drop('No.', axis=1, inplace=True)\n",
        "df_unusual.drop('Sequence Number', axis=1, inplace=True)\n",
        "\n",
        "df.drop('Time', axis=1, inplace=True)\n",
        "df.drop('Source', axis=1, inplace=True)\n",
        "df.drop('Destination', axis=1, inplace=True)\n",
        "df.drop('Protocol', axis=1, inplace=True)\n",
        "df.drop('Info', axis=1, inplace=True)\n",
        "df.drop('Inter-Arrival Time', axis=1, inplace=True)\n",
        "df.drop('No.', axis=1, inplace=True)\n",
        "df.drop('Sequence Number', axis=1, inplace=True)\n",
        "\n",
        "# Calculate Payload-Inter-Arrival Time Ratio by dividing 'Payload Length' with 'Inter-Arrival Time (s)'\n",
        "df['Payload-Inter-Arrival Time Ratio'] = df['Payload Length']/df['Inter-Arrival Time (s)']\n",
        "df_unusual['Payload-Inter-Arrival Time Ratio'] = df_unusual['Payload Length']/df_unusual['Inter-Arrival Time (s)']"
      ],
      "metadata": {
        "id": "XpZFsrXSvl_8"
      },
      "execution_count": null,
      "outputs": []
    },
    {
      "cell_type": "code",
      "source": [
        "from sklearn.preprocessing import MinMaxScaler\n",
        "\n",
        "scaler = MinMaxScaler()\n",
        "# Fit the scaler on the data and transform it\n",
        "scaled_data = scaler.fit_transform(df)\n",
        "\n",
        "# Convert scaled data back to a DataFrame\n",
        "df = pd.DataFrame(scaled_data, columns=df.columns)\n",
        "\n",
        "scaler = MinMaxScaler()\n",
        "# Fit the scaler on the data and transform it\n",
        "scaled_data = scaler.fit_transform(df_unusual)\n",
        "\n",
        "# Convert scaled data back to a DataFrame\n",
        "df_unusual = pd.DataFrame(scaled_data, columns=df_unusual.columns)"
      ],
      "metadata": {
        "id": "zcLqVBbbsHZC"
      },
      "execution_count": null,
      "outputs": []
    },
    {
      "cell_type": "code",
      "source": [
        "# Define the anomaly detection models\n",
        "ocsvm = OneClassSVM(kernel=\"rbf\", gamma=0.1)\n",
        "\n",
        "# Train the models and measure the training time\n",
        "start=time.time()\n",
        "ocsvm.fit(df)\n",
        "ocsvm_time = time.time() - start\n",
        "\n",
        "\n",
        "# Predictions\n",
        "ocsvm_prediction = ocsvm.predict(df_unusual)\n",
        "print(\"OneClassSVM Prediction:\",ocsvm_prediction)\n"
      ],
      "metadata": {
        "colab": {
          "base_uri": "https://localhost:8080/"
        },
        "id": "NzeiYlovKJ_-",
        "outputId": "7f06fb98-57c7-41af-b3ec-63395238c60b"
      },
      "execution_count": null,
      "outputs": [
        {
          "output_type": "stream",
          "name": "stdout",
          "text": [
            "OneClassSVM Prediction: [-1 -1 -1 ... -1 -1 -1]\n"
          ]
        }
      ]
    },
    {
      "cell_type": "code",
      "source": [
        "normal_test = np.count_nonzero(labels == 0)\n",
        "anomaly_test = np.count_nonzero(labels == 1)\n",
        "print(f'Normal_test: {normal_test}')\n",
        "print(f'Anomaly_test: {anomaly_test}')"
      ],
      "metadata": {
        "id": "R6bDTP6mtsTk",
        "colab": {
          "base_uri": "https://localhost:8080/"
        },
        "outputId": "90e5c883-d6bc-4062-b50a-0b95e82315eb"
      },
      "execution_count": null,
      "outputs": [
        {
          "output_type": "stream",
          "name": "stdout",
          "text": [
            "Normal_test: 1535\n",
            "Anomaly_test: 2051\n"
          ]
        }
      ]
    },
    {
      "cell_type": "code",
      "source": [
        "print(f'Anomaly captured by OneClassSVM: {np.count_nonzero(ocsvm_prediction == -1)}')"
      ],
      "metadata": {
        "id": "ze08ZZ_K7LbD",
        "colab": {
          "base_uri": "https://localhost:8080/"
        },
        "outputId": "50b29c01-0947-4f79-f25a-60e424c23e4e"
      },
      "execution_count": null,
      "outputs": [
        {
          "output_type": "stream",
          "name": "stdout",
          "text": [
            "Anomaly captured by OneClassSVM: 3428\n"
          ]
        }
      ]
    },
    {
      "cell_type": "code",
      "source": [
        "ocsvm_incorrect = sum((labels == 0) & (ocsvm_prediction == -1))     # False positives\n",
        "print(f'Incorrectly classified as anomaly by OneClassSVM: {ocsvm_incorrect}')\n"
      ],
      "metadata": {
        "id": "673li9w37v14",
        "colab": {
          "base_uri": "https://localhost:8080/"
        },
        "outputId": "329ed633-fbee-4b18-eaa1-691c3a7ba1f2"
      },
      "execution_count": null,
      "outputs": [
        {
          "output_type": "stream",
          "name": "stdout",
          "text": [
            "Incorrectly classified as anomaly by OneClassSVM: 1480\n"
          ]
        }
      ]
    },
    {
      "cell_type": "code",
      "source": [
        "ocsvm_correct = sum((labels == 1) & (ocsvm_prediction == -1)) * 100      # True positives\n",
        "print(f'Correctly classified as anomaly by OneClassSVM (%): {ocsvm_correct/anomaly_test}%')"
      ],
      "metadata": {
        "id": "K4S3jUAs_ybC",
        "colab": {
          "base_uri": "https://localhost:8080/"
        },
        "outputId": "e808dd0c-8f6e-4546-a0d5-44dc1c9d9765"
      },
      "execution_count": null,
      "outputs": [
        {
          "output_type": "stream",
          "name": "stdout",
          "text": [
            "Correctly classified as anomaly by OneClassSVM (%): 94.97805948317894%\n"
          ]
        }
      ]
    },
    {
      "cell_type": "code",
      "source": [
        "mse_ocsvm = mean_squared_error(labels,ocsvm_prediction)\n",
        "print(mse_ocsvm)"
      ],
      "metadata": {
        "id": "P6mGT2xGbbkg",
        "colab": {
          "base_uri": "https://localhost:8080/"
        },
        "outputId": "42bffb79-eca2-426d-9a94-371ed7be5acf"
      },
      "execution_count": null,
      "outputs": [
        {
          "output_type": "stream",
          "name": "stdout",
          "text": [
            "2.600948131622978\n"
          ]
        }
      ]
    },
    {
      "cell_type": "code",
      "source": [
        "# ocsvm_prediction_mapped = np.where(ocsvm_prediction == -1, 1, 0)\n",
        "ocsvm_prediction_mapped = [0 if pred == 1 else 1 for pred in ocsvm_prediction]\n",
        "conf_matrix_ocsvm = confusion_matrix(labels, ocsvm_prediction_mapped)\n",
        "print(conf_matrix_ocsvm)"
      ],
      "metadata": {
        "colab": {
          "base_uri": "https://localhost:8080/"
        },
        "id": "snJGZagOb3fi",
        "outputId": "2bb68383-fc23-4b32-ae82-ae473da9166a"
      },
      "execution_count": null,
      "outputs": [
        {
          "output_type": "stream",
          "name": "stdout",
          "text": [
            "[[  55 1480]\n",
            " [ 103 1948]]\n"
          ]
        }
      ]
    },
    {
      "cell_type": "code",
      "source": [
        "from sklearn.metrics import roc_curve, auc\n",
        "import matplotlib.pyplot as plt\n"
      ],
      "metadata": {
        "id": "ZCBz-4Szs7z3"
      },
      "execution_count": null,
      "outputs": []
    },
    {
      "cell_type": "code",
      "source": [
        "# Assuming 'y_true' contains true labels (0 for normal, 1 for anomalies) and 'predictions' contains model predictions (-1 for anomalies)\n",
        "fpr, tpr, thresholds = roc_curve(labels, ocsvm_prediction_mapped, pos_label=1)\n",
        "roc_auc = auc(fpr, tpr)\n",
        "print(roc_auc)\n",
        "\n",
        "# Plot ROC curve\n",
        "plt.figure()\n",
        "plt.plot(fpr, tpr, color='darkorange', lw=2, label=f'ROC curve (AUC = {roc_auc:.2f})')\n",
        "plt.plot([0, 1], [0, 1], color='navy', lw=2, linestyle='--')\n",
        "plt.xlabel('False Positive Rate')\n",
        "plt.ylabel('True Positive Rate')\n",
        "plt.title('Receiver Operating Characteristic (ROC) Curve')\n",
        "plt.legend(loc='lower right')\n",
        "plt.show()"
      ],
      "metadata": {
        "colab": {
          "base_uri": "https://localhost:8080/",
          "height": 490
        },
        "id": "0WpkaHybf_CH",
        "outputId": "d186e2ae-d732-4c44-9939-3f220c0df76f"
      },
      "execution_count": null,
      "outputs": [
        {
          "output_type": "stream",
          "name": "stdout",
          "text": [
            "0.49280560686214875\n"
          ]
        },
        {
          "output_type": "display_data",
          "data": {
            "text/plain": [
              "<Figure size 640x480 with 1 Axes>"
            ],
            "image/png": "[encoded data removed]"
          },
          "metadata": {}
        }
      ]
    },
    {
      "cell_type": "code",
      "source": [
        "print(f'Training time OneClassSVM: {ocsvm_time}')"
      ],
      "metadata": {
        "id": "gnP0prVWCbnk",
        "colab": {
          "base_uri": "https://localhost:8080/"
        },
        "outputId": "1527a76e-b9a1-4f96-b437-5744c75ef05f"
      },
      "execution_count": null,
      "outputs": [
        {
          "output_type": "stream",
          "name": "stdout",
          "text": [
            "Training time OneClassSVM: 0.04808330535888672\n"
          ]
        }
      ]
    }
  ]
}