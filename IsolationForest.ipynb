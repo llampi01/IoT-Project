{
  "nbformat": 4,
  "nbformat_minor": 0,
  "metadata": {
    "colab": {
      "provenance": []
    },
    "kernelspec": {
      "name": "python3",
      "display_name": "Python 3"
    },
    "language_info": {
      "name": "python"
    }
  },
  "cells": [
    {
      "cell_type": "code",
      "source": [
        "import numpy as np\n",
        "import pandas as pd\n",
        "import time\n",
        "from sklearn.ensemble import IsolationForest\n",
        "from sklearn.svm import OneClassSVM\n",
        "from sklearn.preprocessing import StandardScaler\n",
        "from sklearn.model_selection import train_test_split\n",
        "from sklearn.metrics import mean_squared_error, accuracy_score, confusion_matrix\n",
        "import math\n",
        "from scipy.stats import entropy"
      ],
      "metadata": {
        "id": "Vo8OSPc0u9pO"
      },
      "execution_count": null,
      "outputs": []
    },
    {
      "cell_type": "markdown",
      "source": [
        "Load the Datasets"
      ],
      "metadata": {
        "id": "-lZ0ksFHenMl"
      }
    },
    {
      "cell_type": "code",
      "source": [
        "df_unusual = pd.read_csv('delay_unusual_traffic.csv')\n",
        "df = pd.read_csv('normal-few_anomalies.csv')\n",
        "\n",
        "# Drop rows with NaN in the 'Source' column\n",
        "df.dropna(subset=['Source'], inplace=True)\n",
        "df.dropna(subset=['Payload Length'], inplace=True)\n",
        "\n",
        "# #Fix Length column\n",
        "# Length=df['Length'].values\n",
        "# df.drop('Length', axis=1, inplace=True)\n",
        "\n",
        "# for i in range(len(Length)):\n",
        "#     ind=Length[i].find(',')\n",
        "#     if(ind!=-1):\n",
        "#         Length[i]=Length[i].split(\",\",1)[1]\n",
        "\n",
        "# #Add back Length column\n",
        "# df['Length'] = Length.tolist()\n",
        "\n",
        "# df['Length'] = df['Length'].astype(int)\n",
        "\n",
        "# Sort the DataFrame by 'Time'\n",
        "df.sort_values(by='Time', inplace=True)\n",
        "\n",
        "# Convert 'Time' column to datetime for calculations\n",
        "df['Time'] = pd.to_datetime(df['Time'], unit='s')\n",
        "\n",
        "# Calculate the inter-arrival time per source IP address\n",
        "df['Inter-Arrival Time'] = df.groupby('Source')['Time'].diff()\n",
        "\n",
        "df['Inter-Arrival Time (s)'] = df['Inter-Arrival Time'].dt.total_seconds()\n",
        "\n",
        "# Drop rows with NaN in the 'Source' column\n",
        "df.dropna(subset=['Inter-Arrival Time (s)'], inplace=True)\n",
        "\n",
        "# Calculate entropy of payload sizes\n",
        "payload_entropy = df.groupby('Source')['Payload Length'].apply(lambda x: entropy(np.bincount(x)))\n",
        "df['Payload_Entropy'] = payload_entropy.reindex(df['Source']).values\n"
      ],
      "metadata": {
        "id": "YPGWVINCd39F"
      },
      "execution_count": null,
      "outputs": []
    },
    {
      "cell_type": "code",
      "source": [
        "# Drop rows with NaN in the 'Source' column\n",
        "df_unusual.dropna(subset=['Source'], inplace=True)\n",
        "df_unusual.dropna(subset=['Payload Length'], inplace=True)\n",
        "\n",
        "# Sort the DataFrame by 'Time'\n",
        "df_unusual.sort_values(by='Time', inplace=True)\n",
        "\n",
        "# Convert 'Time' column to datetime for calculations\n",
        "df_unusual['Time'] = pd.to_datetime(df_unusual['Time'], unit='s')\n",
        "\n",
        "# Calculate the inter-arrival time per source IP address\n",
        "df_unusual['Inter-Arrival Time'] = df_unusual.groupby('Source')['Time'].diff()\n",
        "\n",
        "df_unusual['Inter-Arrival Time (s)'] = df_unusual['Inter-Arrival Time'].dt.total_seconds()\n",
        "\n",
        "# Drop rows with NaN in the 'Source' column\n",
        "df_unusual.dropna(subset=['Inter-Arrival Time (s)'], inplace=True)\n",
        "\n",
        "# Calculate entropy of payload sizes\n",
        "payload_entropy = df_unusual.groupby('Source')['Payload Length'].apply(lambda x: entropy(np.bincount(x)))\n",
        "df_unusual['Payload_Entropy'] = payload_entropy.reindex(df_unusual['Source']).values"
      ],
      "metadata": {
        "id": "IQbZ7C7p2Kor"
      },
      "execution_count": null,
      "outputs": []
    },
    {
      "cell_type": "code",
      "source": [
        "df_unusual['Delay'] = (df_unusual['Inter-Arrival Time (s)'] > 6).astype(int)\n",
        "df_unusual['Unusual'] = (df_unusual['Payload Length'] > 150).astype(int)\n",
        "df_unusual['Anomaly'] = (df_unusual['Delay'] | df_unusual['Unusual']).astype(int)\n",
        "df['Delay'] = (df['Inter-Arrival Time (s)'] > 6).astype(int)\n",
        "df['Unusual'] = (df['Payload Length'] > 150).astype(int)\n",
        "df['Anomaly'] = (df['Delay'] | df['Unusual']).astype(int)"
      ],
      "metadata": {
        "id": "bpjgXf2HgFF0"
      },
      "execution_count": null,
      "outputs": []
    },
    {
      "cell_type": "code",
      "source": [
        "# Preprocess the data\n",
        "labels=df_unusual['Anomaly']\n",
        "df_unusual.drop('Anomaly', axis=1, inplace=True)\n",
        "df_unusual.drop('Delay', axis=1, inplace=True)\n",
        "df_unusual.drop('Unusual', axis=1, inplace=True)        # might help improve the models performance\n",
        "df_unusual.drop('Time', axis=1, inplace=True)\n",
        "df_unusual.drop('Source', axis=1, inplace=True)\n",
        "df_unusual.drop('Destination', axis=1, inplace=True)\n",
        "df_unusual.drop('Protocol', axis=1, inplace=True)\n",
        "df_unusual.drop('Info', axis=1, inplace=True)\n",
        "df_unusual.drop('Inter-Arrival Time', axis=1, inplace=True)\n",
        "df_unusual.drop('No.', axis=1, inplace=True)\n",
        "df_unusual.drop('Sequence Number', axis=1, inplace=True)\n",
        "\n",
        "labels_train=df['Anomaly']\n",
        "df.drop('Anomaly', axis=1, inplace=True)\n",
        "df.drop('Delay', axis=1, inplace=True)\n",
        "df.drop('Unusual', axis=1, inplace=True)        # might help improve the models performance\n",
        "df.drop('Time', axis=1, inplace=True)\n",
        "df.drop('Source', axis=1, inplace=True)\n",
        "df.drop('Destination', axis=1, inplace=True)\n",
        "df.drop('Protocol', axis=1, inplace=True)\n",
        "df.drop('Info', axis=1, inplace=True)\n",
        "df.drop('Inter-Arrival Time', axis=1, inplace=True)\n",
        "df.drop('No.', axis=1, inplace=True)\n",
        "df.drop('Sequence Number', axis=1, inplace=True)\n",
        "\n",
        "# Calculate Payload-Inter-Arrival Time Ratio by dividing 'Payload Length' with 'Inter-Arrival Time (s)'\n",
        "df['Payload-Inter-Arrival Time Ratio'] = df['Payload Length']/df['Inter-Arrival Time (s)']\n",
        "df_unusual['Payload-Inter-Arrival Time Ratio'] = df_unusual['Payload Length']/df_unusual['Inter-Arrival Time (s)']"
      ],
      "metadata": {
        "id": "XpZFsrXSvl_8"
      },
      "execution_count": null,
      "outputs": []
    },
    {
      "cell_type": "code",
      "source": [
        "# X_train, X_test, y_train, y_test = train_test_split(df, labels, test_size=0.2, random_state=42)"
      ],
      "metadata": {
        "id": "RMCSwT9Xgly8"
      },
      "execution_count": null,
      "outputs": []
    },
    {
      "cell_type": "code",
      "source": [
        "anomaly = np.count_nonzero(labels_train == 1)\n",
        "outliers_fraction = anomaly/len(labels_train)\n",
        "print(f'Anomaly Percenatge: {outliers_fraction*100}%')\n",
        "\n",
        "print(df)\n",
        "print(df_unusual)\n",
        "\n",
        "from sklearn.preprocessing import MinMaxScaler\n",
        "\n",
        "scaler = MinMaxScaler()\n",
        "# Fit the scaler on the data and transform it\n",
        "scaled_data = scaler.fit_transform(df)\n",
        "\n",
        "# Convert scaled data back to a DataFrame\n",
        "df = pd.DataFrame(scaled_data, columns=df.columns)\n",
        "\n",
        "scaler = MinMaxScaler()\n",
        "# Fit the scaler on the data and transform it\n",
        "scaled_data = scaler.fit_transform(df_unusual)\n",
        "\n",
        "# Convert scaled data back to a DataFrame\n",
        "df_unusual = pd.DataFrame(scaled_data, columns=df_unusual.columns)"
      ],
      "metadata": {
        "colab": {
          "base_uri": "https://localhost:8080/"
        },
        "id": "zcLqVBbbsHZC",
        "outputId": "bf0c90be-9926-49fc-8ece-c631db4f502a"
      },
      "execution_count": null,
      "outputs": [
        {
          "output_type": "stream",
          "name": "stdout",
          "text": [
            "Anomaly Percenatge: 30.866141732283463%\n",
            "       Payload Length  Inter-Arrival Time (s)  Payload_Entropy  \\\n",
            "8                76.0                   0.494         0.000000   \n",
            "16               76.0                   0.743         0.000000   \n",
            "18               76.0                   0.752         0.000000   \n",
            "30               76.0                   1.066         0.000000   \n",
            "34               76.0                   1.818         0.000000   \n",
            "...               ...                     ...              ...   \n",
            "19769            25.0                   6.015         0.767858   \n",
            "19771            25.0                   0.186         1.188098   \n",
            "19773            25.0                   6.005         0.757434   \n",
            "19775            25.0                   1.241         0.828518   \n",
            "19777            25.0                   6.011         0.766694   \n",
            "\n",
            "       Payload-Inter-Arrival Time Ratio  \n",
            "8                            153.846154  \n",
            "16                           102.288022  \n",
            "18                           101.063830  \n",
            "30                            71.294559  \n",
            "34                            41.804180  \n",
            "...                                 ...  \n",
            "19769                          4.156276  \n",
            "19771                        134.408602  \n",
            "19773                          4.163197  \n",
            "19775                         20.145044  \n",
            "19777                          4.159042  \n",
            "\n",
            "[9525 rows x 4 columns]\n",
            "      Payload Length  Inter-Arrival Time (s)  Payload_Entropy  \\\n",
            "30              76.0                  0.6620         0.000000   \n",
            "32              76.0                  0.3290         0.000000   \n",
            "36              76.0                  1.8910         0.000000   \n",
            "38              76.0                  2.6850         0.000000   \n",
            "40              76.0                  0.8610         0.000000   \n",
            "...              ...                     ...              ...   \n",
            "8493            24.0                 15.9910         0.479166   \n",
            "8495            24.0                  0.3880         1.975852   \n",
            "8497            24.0                 10.9890         0.382960   \n",
            "8499            24.0                  0.4824         1.059830   \n",
            "8501            24.0                 11.0010         0.379838   \n",
            "\n",
            "      Payload-Inter-Arrival Time Ratio  \n",
            "30                          114.803625  \n",
            "32                          231.003040  \n",
            "36                           40.190375  \n",
            "38                           28.305400  \n",
            "40                           88.269454  \n",
            "...                                ...  \n",
            "8493                          1.500844  \n",
            "8495                         61.855670  \n",
            "8497                          2.184002  \n",
            "8499                         49.751244  \n",
            "8501                          2.181620  \n",
            "\n",
            "[3586 rows x 4 columns]\n"
          ]
        }
      ]
    },
    {
      "cell_type": "code",
      "source": [
        "# Define the anomaly detection models\n",
        "iso = IsolationForest(random_state = 0, contamination=0.1)\n",
        "ocsvm = OneClassSVM(nu=outliers_fraction, kernel=\"rbf\", gamma=0.1)\n",
        "\n",
        "# Train the models and measure the training time\n",
        "start=time.time()\n",
        "ocsvm.fit(df)\n",
        "ocsvm_time = time.time() - start\n",
        "\n",
        "start=time.time()\n",
        "iso.fit(df)\n",
        "iso_time = time.time() - start\n",
        "\n",
        "# Predictions\n",
        "ocsvm_prediction = ocsvm.predict(df_unusual)\n",
        "print(\"OneClassSVM Prediction:\",ocsvm_prediction)\n",
        "\n",
        "iso_prediction = iso.predict(df_unusual)\n",
        "print(\"Isolation Forest Prediction:\",iso_prediction)"
      ],
      "metadata": {
        "colab": {
          "base_uri": "https://localhost:8080/"
        },
        "id": "NzeiYlovKJ_-",
        "outputId": "81ed4388-1617-49b7-f2f3-533a33474a29"
      },
      "execution_count": null,
      "outputs": [
        {
          "output_type": "stream",
          "name": "stderr",
          "text": [
            "/usr/local/lib/python3.10/dist-packages/sklearn/base.py:439: UserWarning: X does not have valid feature names, but IsolationForest was fitted with feature names\n",
            "  warnings.warn(\n"
          ]
        },
        {
          "output_type": "stream",
          "name": "stdout",
          "text": [
            "OneClassSVM Prediction: [-1 -1 -1 ... -1 -1 -1]\n",
            "Isolation Forest Prediction: [-1 -1  1 ... -1  1 -1]\n"
          ]
        }
      ]
    },
    {
      "cell_type": "code",
      "source": [
        "normal_test = np.count_nonzero(labels == 0)\n",
        "anomaly_test = np.count_nonzero(labels == 1)\n",
        "print(f'Normal_test: {normal_test}')\n",
        "print(f'Anomaly_test: {anomaly_test}')"
      ],
      "metadata": {
        "id": "R6bDTP6mtsTk",
        "colab": {
          "base_uri": "https://localhost:8080/"
        },
        "outputId": "4d8b270f-fa6f-4cb0-ae5a-17bbcb91f343"
      },
      "execution_count": null,
      "outputs": [
        {
          "output_type": "stream",
          "name": "stdout",
          "text": [
            "Normal_test: 1535\n",
            "Anomaly_test: 2051\n"
          ]
        }
      ]
    },
    {
      "cell_type": "code",
      "source": [
        "print(f'Anomaly captured by OneClassSVM: {np.count_nonzero(ocsvm_prediction == -1)}')\n",
        "print(f'Anomaly captured by IsolationForest: {np.count_nonzero(iso_prediction == -1)}')"
      ],
      "metadata": {
        "id": "ze08ZZ_K7LbD",
        "colab": {
          "base_uri": "https://localhost:8080/"
        },
        "outputId": "fa5af64e-67f0-471b-8d59-1daa7ad6d5c0"
      },
      "execution_count": null,
      "outputs": [
        {
          "output_type": "stream",
          "name": "stdout",
          "text": [
            "Anomaly captured by OneClassSVM: 3586\n",
            "Anomaly captured by IsolationForest: 2129\n"
          ]
        }
      ]
    },
    {
      "cell_type": "code",
      "source": [
        "ocsvm_incorrect = sum((labels == 0) & (ocsvm_prediction == -1))     # False positives\n",
        "iso_incorrect = sum((labels == 0) & (iso_prediction == -1))         # False positives\n",
        "print(f'Incorrectly classified as anomaly by OneClassSVM: {ocsvm_incorrect}')\n",
        "print(f'Incorrectly classified as anomaly by IsolationForest: {iso_incorrect}')"
      ],
      "metadata": {
        "id": "673li9w37v14",
        "colab": {
          "base_uri": "https://localhost:8080/"
        },
        "outputId": "9177c5f7-c7b4-4478-a163-32c65e9de1fa"
      },
      "execution_count": null,
      "outputs": [
        {
          "output_type": "stream",
          "name": "stdout",
          "text": [
            "Incorrectly classified as anomaly by OneClassSVM: 1535\n",
            "Incorrectly classified as anomaly by IsolationForest: 110\n"
          ]
        }
      ]
    },
    {
      "cell_type": "code",
      "source": [
        "ocsvm_correct = sum((labels == 1) & (ocsvm_prediction == -1)) * 100      # True positives\n",
        "iso_correct = sum((labels == 1) & (iso_prediction == -1)) * 100           # True positives\n",
        "print(f'Correctly classified as anomaly by OneClassSVM (%): {ocsvm_correct/anomaly_test}%')\n",
        "print(f'Correctly classified as anomaly by IsolationForest (%): {iso_correct/anomaly_test}%')"
      ],
      "metadata": {
        "id": "K4S3jUAs_ybC",
        "colab": {
          "base_uri": "https://localhost:8080/"
        },
        "outputId": "c3dacb63-fe40-4534-bd20-e258e53ca0fa"
      },
      "execution_count": null,
      "outputs": [
        {
          "output_type": "stream",
          "name": "stdout",
          "text": [
            "Correctly classified as anomaly by OneClassSVM (%): 100.0%\n",
            "Correctly classified as anomaly by IsolationForest (%): 98.43978547050219%\n"
          ]
        }
      ]
    },
    {
      "cell_type": "code",
      "source": [
        "mse_ocsvm = mean_squared_error(labels,ocsvm_prediction)\n",
        "mse_iso = mean_squared_error(labels,iso_prediction)\n",
        "print(mse_ocsvm)\n",
        "print(mse_iso)"
      ],
      "metadata": {
        "id": "P6mGT2xGbbkg",
        "colab": {
          "base_uri": "https://localhost:8080/"
        },
        "outputId": "aec50745-8d33-4454-80bd-df5398717bce"
      },
      "execution_count": null,
      "outputs": [
        {
          "output_type": "stream",
          "name": "stdout",
          "text": [
            "2.715839375348578\n",
            "2.680145008365867\n"
          ]
        }
      ]
    },
    {
      "cell_type": "code",
      "source": [
        "# ocsvm_prediction_mapped = np.where(ocsvm_prediction == -1, 1, 0)\n",
        "ocsvm_prediction_mapped = [0 if pred == 1 else 1 for pred in ocsvm_prediction]\n",
        "conf_matrix_ocsvm = confusion_matrix(labels, ocsvm_prediction_mapped)\n",
        "print(conf_matrix_ocsvm)\n",
        "# iso_prediction_mapped = np.where(iso_prediction == -1, 1, 0)\n",
        "iso_prediction_mapped = [0 if pred == 1 else 1 for pred in iso_prediction]\n",
        "conf_matrix_iso = confusion_matrix(labels, iso_prediction_mapped)\n",
        "print(conf_matrix_iso)"
      ],
      "metadata": {
        "colab": {
          "base_uri": "https://localhost:8080/"
        },
        "id": "snJGZagOb3fi",
        "outputId": "d45cdf52-4616-4335-b21c-5908954c351a"
      },
      "execution_count": null,
      "outputs": [
        {
          "output_type": "stream",
          "name": "stdout",
          "text": [
            "[[   0 1535]\n",
            " [   0 2051]]\n",
            "[[1425  110]\n",
            " [  32 2019]]\n"
          ]
        }
      ]
    },
    {
      "cell_type": "code",
      "source": [
        "from sklearn.metrics import roc_curve, auc\n",
        "import matplotlib.pyplot as plt\n",
        "\n",
        "# Assuming 'y_true' contains true labels (0 for normal, 1 for anomalies) and 'predictions' contains model predictions (-1 for anomalies)\n",
        "fpr, tpr, thresholds = roc_curve(labels, iso_prediction_mapped, pos_label=1)\n",
        "roc_auc = auc(fpr, tpr)\n",
        "print(roc_auc)\n",
        "\n",
        "# Plot ROC curve\n",
        "plt.figure()\n",
        "plt.plot(fpr, tpr, color='darkorange', lw=2, label=f'ROC curve (AUC = {roc_auc:.2f})')\n",
        "plt.plot([0, 1], [0, 1], color='navy', lw=2, linestyle='--')\n",
        "plt.xlabel('False Positive Rate')\n",
        "plt.ylabel('True Positive Rate')\n",
        "plt.title('Receiver Operating Characteristic (ROC) Curve')\n",
        "plt.legend(loc='lower right')\n",
        "plt.show()"
      ],
      "metadata": {
        "id": "ZCBz-4Szs7z3",
        "outputId": "d3e1e209-911d-4c3b-a417-120bbe896dd7",
        "colab": {
          "base_uri": "https://localhost:8080/",
          "height": 490
        }
      },
      "execution_count": null,
      "outputs": [
        {
          "output_type": "stream",
          "name": "stdout",
          "text": [
            "0.9563683084600028\n"
          ]
        },
        {
          "output_type": "display_data",
          "data": {
            "text/plain": [
              "<Figure size 640x480 with 1 Axes>"
            ],
            "image/png": "[encoded data removed]"
          },
          "metadata": {}
        }
      ]
    },
    {
      "cell_type": "code",
      "source": [
        "# Assuming 'y_true' contains true labels (0 for normal, 1 for anomalies) and 'predictions' contains model predictions (-1 for anomalies)\n",
        "fpr, tpr, thresholds = roc_curve(labels, ocsvm_prediction_mapped, pos_label=1)\n",
        "roc_auc = auc(fpr, tpr)\n",
        "print(roc_auc)\n",
        "\n",
        "# Plot ROC curve\n",
        "plt.figure()\n",
        "plt.plot(fpr, tpr, color='darkorange', lw=2, label=f'ROC curve (AUC = {roc_auc:.2f})')\n",
        "plt.plot([0, 1], [0, 1], color='navy', lw=2, linestyle='--')\n",
        "plt.xlabel('False Positive Rate')\n",
        "plt.ylabel('True Positive Rate')\n",
        "plt.title('Receiver Operating Characteristic (ROC) Curve')\n",
        "plt.legend(loc='lower right')\n",
        "plt.show()"
      ],
      "metadata": {
        "colab": {
          "base_uri": "https://localhost:8080/",
          "height": 490
        },
        "id": "0WpkaHybf_CH",
        "outputId": "b595233f-6986-4253-c1c6-7250462fd125"
      },
      "execution_count": null,
      "outputs": [
        {
          "output_type": "stream",
          "name": "stdout",
          "text": [
            "0.5\n"
          ]
        },
        {
          "output_type": "display_data",
          "data": {
            "text/plain": [
              "<Figure size 640x480 with 1 Axes>"
            ],
            "image/png": "[encoded data removed]"
          },
          "metadata": {}
        }
      ]
    },
    {
      "cell_type": "code",
      "source": [
        "print(f'Training time OneClassSVM: {ocsvm_time}')\n",
        "print(f'Training time IsolationForest: {iso_time}')"
      ],
      "metadata": {
        "id": "gnP0prVWCbnk",
        "colab": {
          "base_uri": "https://localhost:8080/"
        },
        "outputId": "a39170ab-068a-4c09-d8da-0b00dd998a55"
      },
      "execution_count": null,
      "outputs": [
        {
          "output_type": "stream",
          "name": "stdout",
          "text": [
            "Training time OneClassSVM: 3.1887176036834717\n",
            "Training time IsolationForest: 0.7446479797363281\n"
          ]
        }
      ]
    }
  ]
}